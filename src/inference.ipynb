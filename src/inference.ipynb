{
 "cells": [
  {
   "cell_type": "code",
   "execution_count": 6,
   "metadata": {},
   "outputs": [],
   "source": [
    "import albumentations as A\n",
    "import pandas as pd\n",
    "import numpy as np\n",
    "import os\n",
    "import random\n",
    "import time\n",
    "from sklearn import preprocessing\n",
    "from sklearn.model_selection import train_test_split\n",
    "import cv2\n",
    "\n",
    "import torch\n",
    "from torch.utils.data import DataLoader\n",
    "import torch.nn as nn\n",
    "\n",
    "from dataset.CNN_Dataset import CNN_Dataset\n",
    "\n",
    "from models.EfficientNet import EfficientNet\n",
    "from tqdm import tqdm\n",
    "\n",
    "from sklearn.metrics import confusion_matrix, accuracy_score\n",
    "from albumentations.pytorch.transforms import ToTensorV2"
   ]
  },
  {
   "cell_type": "code",
   "execution_count": 7,
   "metadata": {},
   "outputs": [],
   "source": [
    "transforms = A.Compose([\n",
    "                A.Resize(224,224),\n",
    "                A.HorizontalFlip(p=0.5),\n",
    "                A.Normalize(),\n",
    "                ToTensorV2()                \n",
    "            ])"
   ]
  },
  {
   "attachments": {},
   "cell_type": "markdown",
   "metadata": {},
   "source": [
    "# Efficient Net"
   ]
  },
  {
   "cell_type": "code",
   "execution_count": 8,
   "metadata": {},
   "outputs": [
    {
     "ename": "KeyError",
     "evalue": "'You have to pass data to augmentations as named arguments, for example: aug(image=image)'",
     "output_type": "error",
     "traceback": [
      "\u001b[0;31m---------------------------------------------------------------------------\u001b[0m",
      "\u001b[0;31mKeyError\u001b[0m                                  Traceback (most recent call last)",
      "Cell \u001b[0;32mIn[8], line 5\u001b[0m\n\u001b[1;32m      2\u001b[0m device \u001b[39m=\u001b[39m torch\u001b[39m.\u001b[39mdevice(\u001b[39m'\u001b[39m\u001b[39mcuda\u001b[39m\u001b[39m'\u001b[39m) \u001b[39mif\u001b[39;00m torch\u001b[39m.\u001b[39mcuda\u001b[39m.\u001b[39mis_available() \u001b[39melse\u001b[39;00m torch\u001b[39m.\u001b[39mdevice(\u001b[39m'\u001b[39m\u001b[39mcpu\u001b[39m\u001b[39m'\u001b[39m)\n\u001b[1;32m      4\u001b[0m image \u001b[39m=\u001b[39m cv2\u001b[39m.\u001b[39mimread(\u001b[39m\"\u001b[39m\u001b[39m/home/prml/Downloads/18698369_10212844348565183_8072570633462979037_n.jpg\u001b[39m\u001b[39m\"\u001b[39m)\n\u001b[0;32m----> 5\u001b[0m image \u001b[39m=\u001b[39m transforms(image)\n\u001b[1;32m      7\u001b[0m \u001b[39mfor\u001b[39;00m net_name \u001b[39min\u001b[39;00m test_order:\n\u001b[1;32m      8\u001b[0m     model \u001b[39m=\u001b[39m EfficientNet(num_class\u001b[39m=\u001b[39m\u001b[39m3\u001b[39m,model_name\u001b[39m=\u001b[39mnet_name, pretrained\u001b[39m=\u001b[39m\u001b[39mTrue\u001b[39;00m)\n",
      "File \u001b[0;32m~/anaconda3/envs/chanyoung/lib/python3.9/site-packages/albumentations/core/composition.py:188\u001b[0m, in \u001b[0;36mCompose.__call__\u001b[0;34m(self, force_apply, *args, **data)\u001b[0m\n\u001b[1;32m    186\u001b[0m \u001b[39mdef\u001b[39;00m \u001b[39m__call__\u001b[39m(\u001b[39mself\u001b[39m, \u001b[39m*\u001b[39margs, force_apply: \u001b[39mbool\u001b[39m \u001b[39m=\u001b[39m \u001b[39mFalse\u001b[39;00m, \u001b[39m*\u001b[39m\u001b[39m*\u001b[39mdata) \u001b[39m-\u001b[39m\u001b[39m>\u001b[39m typing\u001b[39m.\u001b[39mDict[\u001b[39mstr\u001b[39m, typing\u001b[39m.\u001b[39mAny]:\n\u001b[1;32m    187\u001b[0m     \u001b[39mif\u001b[39;00m args:\n\u001b[0;32m--> 188\u001b[0m         \u001b[39mraise\u001b[39;00m \u001b[39mKeyError\u001b[39;00m(\u001b[39m\"\u001b[39m\u001b[39mYou have to pass data to augmentations as named arguments, for example: aug(image=image)\u001b[39m\u001b[39m\"\u001b[39m)\n\u001b[1;32m    189\u001b[0m     \u001b[39mif\u001b[39;00m \u001b[39mself\u001b[39m\u001b[39m.\u001b[39mis_check_args:\n\u001b[1;32m    190\u001b[0m         \u001b[39mself\u001b[39m\u001b[39m.\u001b[39m_check_args(\u001b[39m*\u001b[39m\u001b[39m*\u001b[39mdata)\n",
      "\u001b[0;31mKeyError\u001b[0m: 'You have to pass data to augmentations as named arguments, for example: aug(image=image)'"
     ]
    }
   ],
   "source": [
    "test_order = ['b0','b1','b2','b3','b4','b5']\n",
    "device = torch.device('cuda') if torch.cuda.is_available() else torch.device('cpu')\n",
    "\n",
    "image = cv2.imread(\"/home/prml/Downloads/18698369_10212844348565183_8072570633462979037_n.jpg\")\n",
    "image = transforms(image=image)['image'] / 255.\n",
    "for net_name in test_order:\n",
    "    model = EfficientNet(num_class=3,model_name=net_name, pretrained=True)\n",
    "    model_save_path = f\"/home/prml/chanyoung/fire-detection/saved_model//aihub_training/efficient_{net_name}.pt\"\n",
    "    model.load_state_dict(torch.load(model_save_path))\n",
    "\n",
    "\n",
    "    model.eval()\n",
    "    model.to(device)        \n",
    "    with torch.no_grad():\n",
    "        image = image.to(device)\n",
    "        output = model(image)\n",
    "        \n",
    "        output = torch.nn.functional.softmax(output[0], dim=0)\n",
    "        confs, predicts = torch.topk(output, 1)\n",
    "        predicts = predicts.to('cpu')\n",
    "        print(net_name, predicts)"
   ]
  }
 ],
 "metadata": {
  "kernelspec": {
   "display_name": "chanyoung",
   "language": "python",
   "name": "python3"
  },
  "language_info": {
   "codemirror_mode": {
    "name": "ipython",
    "version": 3
   },
   "file_extension": ".py",
   "mimetype": "text/x-python",
   "name": "python",
   "nbconvert_exporter": "python",
   "pygments_lexer": "ipython3",
   "version": "3.9.16"
  },
  "orig_nbformat": 4,
  "vscode": {
   "interpreter": {
    "hash": "318d57bc0959163e4522988ba386035f7c0aafcd0635bb15b957aeb2dd7e7477"
   }
  }
 },
 "nbformat": 4,
 "nbformat_minor": 2
}
