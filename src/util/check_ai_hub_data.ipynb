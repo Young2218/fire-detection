{
 "cells": [
  {
   "cell_type": "code",
   "execution_count": null,
   "metadata": {},
   "outputs": [],
   "source": [
    "import os\n",
    "\n",
    "basepath = '/media/prml/새 볼륨/aihub/화재 발생 예측 영상/Training_nz'\n",
    "for folder_name in os.listdir(basepath):\n",
    "    folder_path = os.path.join(basepath, folder_name)\n",
    "    with os.scandir(folder_path) as entries:\n",
    "        for entry in entries:\n",
    "            if entry.is_dir():\n",
    "                print(folder_name, entry.name)"
   ]
  }
 ],
 "metadata": {
  "language_info": {
   "name": "python"
  },
  "orig_nbformat": 4
 },
 "nbformat": 4,
 "nbformat_minor": 2
}
