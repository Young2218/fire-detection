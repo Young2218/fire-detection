{
 "cells": [
  {
   "cell_type": "code",
   "execution_count": 3,
   "metadata": {},
   "outputs": [],
   "source": [
    "import os\n",
    "\n",
    "basepath = '/media/prml/새 볼륨/aihub/화재 발생 예측 영상/Training_nz'\n",
    "for folder_name in os.listdir(basepath):\n",
    "    folder_path = os.path.join(basepath, folder_name)\n",
    "    with os.scandir(folder_path) as entries:\n",
    "        for entry in entries:\n",
    "            if entry.is_dir():\n",
    "                print(folder_name, entry.name)"
   ]
  },
  {
   "cell_type": "code",
   "execution_count": 2,
   "metadata": {},
   "outputs": [],
   "source": [
    "import os\n",
    "import shutil\n",
    "\n",
    "basepath = '/media/prml/새 볼륨/aihub/화재 발생 예측 영상/Training_nz'\n",
    "for folder_name in os.listdir(basepath):\n",
    "    folder_path = os.path.join(basepath, folder_name)\n",
    "    with os.scandir(folder_path) as entries:\n",
    "        for entry in entries:\n",
    "            if entry.is_dir():\n",
    "                shutil.move(os.path.join(folder_path, entry.name), os.path.join(basepath, entry.name))"
   ]
  },
  {
   "attachments": {},
   "cell_type": "markdown",
   "metadata": {},
   "source": [
    "# change folder name"
   ]
  },
  {
   "cell_type": "code",
   "execution_count": 5,
   "metadata": {},
   "outputs": [],
   "source": [
    "basepath = '/media/prml/새 볼륨/aihub/화재 발생 예측 영상/Training_nz'\n",
    "for folder_name in os.listdir(basepath):\n",
    "    src = os.path.join(basepath, folder_name)\n",
    "    new_name = folder_name.replace('라벨', 'label')\n",
    "    new_name = new_name.replace('원천', 'img')\n",
    "    new_name = new_name.replace('화재씬', 'fire')\n",
    "    new_name = new_name.replace('무관씬', 'non')\n",
    "    new_name = new_name.replace('유사씬', 'sim')\n",
    "    dst = os.path.join(basepath,new_name)\n",
    "    os.rename(src, dst)\n",
    "    "
   ]
  }
 ],
 "metadata": {
  "kernelspec": {
   "display_name": "chanyoung",
   "language": "python",
   "name": "python3"
  },
  "language_info": {
   "codemirror_mode": {
    "name": "ipython",
    "version": 3
   },
   "file_extension": ".py",
   "mimetype": "text/x-python",
   "name": "python",
   "nbconvert_exporter": "python",
   "pygments_lexer": "ipython3",
   "version": "3.9.16"
  },
  "orig_nbformat": 4,
  "vscode": {
   "interpreter": {
    "hash": "318d57bc0959163e4522988ba386035f7c0aafcd0635bb15b957aeb2dd7e7477"
   }
  }
 },
 "nbformat": 4,
 "nbformat_minor": 2
}
