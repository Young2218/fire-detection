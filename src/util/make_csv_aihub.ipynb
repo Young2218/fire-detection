{
 "cells": [
  {
   "cell_type": "code",
   "execution_count": 19,
   "metadata": {},
   "outputs": [],
   "source": [
    "file_floder_paths = {'Non':[\"/home/prml/chanyoung/FIRE-SMOKE-DATASET/Train/Neutral\"],\n",
    "                     'Fire':[\"/home/prml/chanyoung/FIRE-SMOKE-DATASET/Train/Fire\"],\n",
    "                     'Smoke':[\"/home/prml/chanyoung/FIRE-SMOKE-DATASET/Train/Smoke\"]}"
   ]
  },
  {
   "cell_type": "code",
   "execution_count": 20,
   "metadata": {},
   "outputs": [],
   "source": [
    "test_floder_paths = {'Non':[\"/home/prml/chanyoung/FIRE-SMOKE-DATASET/Test/Neutral\"],\n",
    "                     'Fire':[\"/home/prml/chanyoung/FIRE-SMOKE-DATASET/Test/Fire\"],\n",
    "                     'Smoke':[\"/home/prml/chanyoung/FIRE-SMOKE-DATASET/Test/Smoke\"]}"
   ]
  },
  {
   "cell_type": "code",
   "execution_count": 21,
   "metadata": {},
   "outputs": [
    {
     "name": "stdout",
     "output_type": "stream",
     "text": [
      "Non 899, Smoke 900, Fire 900\n"
     ]
    }
   ],
   "source": [
    "import os\n",
    "\n",
    "cnt_fire = 0\n",
    "cnt_smoke = 0\n",
    "cnt_non = 0\n",
    "\n",
    "for file_path in file_floder_paths['Non']:\n",
    "    for file_name in os.listdir(file_path):\n",
    "        cnt_non += 1\n",
    "\n",
    "for file_path in file_floder_paths['Smoke']:\n",
    "    for file_name in os.listdir(file_path):\n",
    "        cnt_smoke += 1\n",
    "\n",
    "for file_path in file_floder_paths['Fire']:\n",
    "    for file_name in os.listdir(file_path):\n",
    "        cnt_fire += 1\n",
    "\n",
    "print(f'Non {cnt_non}, Smoke {cnt_smoke}, Fire {cnt_fire}')"
   ]
  },
  {
   "cell_type": "code",
   "execution_count": 22,
   "metadata": {},
   "outputs": [
    {
     "name": "stdout",
     "output_type": "stream",
     "text": [
      "Non 100, Smoke 100, Fire 100\n"
     ]
    }
   ],
   "source": [
    "import os\n",
    "\n",
    "cnt_fire = 0\n",
    "cnt_smoke = 0\n",
    "cnt_non = 0\n",
    "\n",
    "for file_path in test_floder_paths['Non']:\n",
    "    for file_name in os.listdir(file_path):\n",
    "        cnt_non += 1\n",
    "\n",
    "for file_path in test_floder_paths['Smoke']:\n",
    "    for file_name in os.listdir(file_path):\n",
    "        cnt_smoke += 1\n",
    "\n",
    "for file_path in test_floder_paths['Fire']:\n",
    "    for file_name in os.listdir(file_path):\n",
    "        cnt_fire += 1\n",
    "\n",
    "print(f'Non {cnt_non}, Smoke {cnt_smoke}, Fire {cnt_fire}')"
   ]
  },
  {
   "cell_type": "code",
   "execution_count": 23,
   "metadata": {},
   "outputs": [
    {
     "name": "stdout",
     "output_type": "stream",
     "text": [
      "<class 'pandas.core.frame.DataFrame'>\n",
      "RangeIndex: 2699 entries, 0 to 2698\n",
      "Data columns (total 2 columns):\n",
      " #   Column     Non-Null Count  Dtype \n",
      "---  ------     --------------  ----- \n",
      " 0   file_path  2699 non-null   object\n",
      " 1   class      2699 non-null   object\n",
      "dtypes: object(2)\n",
      "memory usage: 42.3+ KB\n"
     ]
    }
   ],
   "source": [
    "import os\n",
    "import pandas as pd\n",
    "\n",
    "list_fire = []\n",
    "list_smoke = []\n",
    "list_non = []\n",
    "\n",
    "for file_path in file_floder_paths['Non']:\n",
    "    for file_name in os.listdir(file_path):\n",
    "        list_non.append([os.path.join(file_path, file_name), \"Non\"])\n",
    "\n",
    "for file_path in file_floder_paths['Smoke']:\n",
    "    for file_name in os.listdir(file_path):\n",
    "        list_smoke.append([os.path.join(file_path, file_name), \"Smoke\"])\n",
    "\n",
    "for file_path in file_floder_paths['Fire']:\n",
    "    for file_name in os.listdir(file_path):\n",
    "        list_fire.append([os.path.join(file_path, file_name), \"Fire\"])\n",
    "\n",
    "df = pd.DataFrame(list_fire+list_smoke+list_non, columns=[\"file_path\", \"class\"])\n",
    "df.to_csv(\"../../train_info.csv\")\n",
    "df.info()"
   ]
  },
  {
   "cell_type": "code",
   "execution_count": 24,
   "metadata": {},
   "outputs": [
    {
     "name": "stdout",
     "output_type": "stream",
     "text": [
      "<class 'pandas.core.frame.DataFrame'>\n",
      "RangeIndex: 300 entries, 0 to 299\n",
      "Data columns (total 2 columns):\n",
      " #   Column     Non-Null Count  Dtype \n",
      "---  ------     --------------  ----- \n",
      " 0   file_path  300 non-null    object\n",
      " 1   class      300 non-null    object\n",
      "dtypes: object(2)\n",
      "memory usage: 4.8+ KB\n"
     ]
    }
   ],
   "source": [
    "import os\n",
    "import pandas as pd\n",
    "\n",
    "list_fire = []\n",
    "list_smoke = []\n",
    "list_non = []\n",
    "\n",
    "for file_path in test_floder_paths['Non']:\n",
    "    for file_name in os.listdir(file_path):\n",
    "        list_non.append([os.path.join(file_path, file_name), \"Non\"])\n",
    "\n",
    "for file_path in test_floder_paths['Smoke']:\n",
    "    for file_name in os.listdir(file_path):\n",
    "        list_smoke.append([os.path.join(file_path, file_name), \"Smoke\"])\n",
    "\n",
    "for file_path in test_floder_paths['Fire']:\n",
    "    for file_name in os.listdir(file_path):\n",
    "        list_fire.append([os.path.join(file_path, file_name), \"Fire\"])\n",
    "\n",
    "df = pd.DataFrame(list_fire+list_smoke+list_non, columns=[\"file_path\", \"class\"])\n",
    "df.to_csv(\"../../test_info.csv\")\n",
    "df.info()"
   ]
  }
 ],
 "metadata": {
  "kernelspec": {
   "display_name": "chanyoung",
   "language": "python",
   "name": "python3"
  },
  "language_info": {
   "codemirror_mode": {
    "name": "ipython",
    "version": 3
   },
   "file_extension": ".py",
   "mimetype": "text/x-python",
   "name": "python",
   "nbconvert_exporter": "python",
   "pygments_lexer": "ipython3",
   "version": "3.9.16"
  },
  "orig_nbformat": 4,
  "vscode": {
   "interpreter": {
    "hash": "318d57bc0959163e4522988ba386035f7c0aafcd0635bb15b957aeb2dd7e7477"
   }
  }
 },
 "nbformat": 4,
 "nbformat_minor": 2
}
