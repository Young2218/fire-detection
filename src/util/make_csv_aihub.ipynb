{
 "cells": [
  {
   "attachments": {},
   "cell_type": "markdown",
   "metadata": {},
   "source": [
    "## Resize Img"
   ]
  },
  {
   "cell_type": "code",
   "execution_count": 1,
   "metadata": {},
   "outputs": [],
   "source": [
    "import os \n",
    "def resizeNresave(src_base, dst_base, folder_name):\n",
    "    dst_dir = os.path.join(dst_base, folder_name)\n",
    "    if not os.path.isdir(dst_dir):\n",
    "        os.makedirs(dst_dir)\n",
    "    \n",
    "    if 'img' in folder_name:\n",
    "        folder_path = os.path.join(src_base, folder_name)\n",
    "        \n",
    "        for img_name in os.listdir(folder_path):\n",
    "            try:\n",
    "                save_path = os.path.join(dst_dir, img_name)\n",
    "                if os.path.isfile(save_path):\n",
    "                    continue\n",
    "                img_path = os.path.join(folder_path, img_name)\n",
    "                img = Image.open(img_path)\n",
    "                resized_img = img.resize((224,224))\n",
    "                resized_img.save(save_path)\n",
    "            except:\n",
    "                print(img_name)\n",
    "                continue"
   ]
  },
  {
   "cell_type": "code",
   "execution_count": 2,
   "metadata": {},
   "outputs": [
    {
     "name": "stdout",
     "output_type": "stream",
     "text": [
      "S3-N0879MF01586.jpg\n",
      "S3-N1725MS01286.jpg\n",
      "S3-N0830MS03084.jpg\n",
      "S3-N1103MF01093.jpg\n",
      "S3-N0847MS04316.jpg\n",
      "S3-N1710MS02539.jpg\n",
      "S3-N0817MF02217.jpg\n",
      "S3-N0860MS04391.jpg\n",
      "S3-N0979MS03096.jpg\n",
      "S3-N0823MF00397.jpg\n"
     ]
    }
   ],
   "source": [
    "from PIL import Image\n",
    "import os\n",
    "from multiprocessing import Process\n",
    "\n",
    "\n",
    "src_base_path = \"/media/prml/새 볼륨/aihub/fire dataset/Training_nz\"\n",
    "dst_base_path = \"/home/prml/chanyoung/dataset/aihub_fire_resize/Training\"\n",
    "object_list = []\n",
    "\n",
    "for folder_name in os.listdir(src_base_path):\n",
    "    task = Process(target=resizeNresave, args=(src_base_path,dst_base_path, folder_name))\n",
    "\n",
    "    object_list.append(task)\n",
    "    task.start()\n",
    "\n",
    " \n",
    "\n",
    "for task in object_list:\n",
    "    task.join()"
   ]
  },
  {
   "cell_type": "code",
   "execution_count": 3,
   "metadata": {},
   "outputs": [
    {
     "name": "stdout",
     "output_type": "stream",
     "text": [
      "S3-N1103MF01093.jpg\n",
      "S3-N0817MF02217.jpg\n",
      "S3-N0879MF01586.jpg\n",
      "S3-N0979MS03096.jpg\n",
      "S3-N1710MS02539.jpg\n",
      "S3-N1725MS01286.jpg\n",
      "S3-N1795MS02559.jpg\n"
     ]
    }
   ],
   "source": [
    "from PIL import Image\n",
    "import os\n",
    "\n",
    "src_base_path = \"/media/prml/새 볼륨/aihub/fire dataset/Training_nz\"\n",
    "dst_base_path = \"/home/prml/chanyoung/dataset/aihub_fire_resize/Training\"\n",
    "\n",
    "for folder_name in os.listdir(src_base_path):\n",
    "    dst_dir = os.path.join(dst_base_path, folder_name)\n",
    "    if not os.path.isdir(dst_dir):\n",
    "        os.makedirs(dst_dir)\n",
    "    folder_path = os.path.join(src_base_path, folder_name)\n",
    "    if 'img' in folder_name:\n",
    "        try:\n",
    "            for img_name in os.listdir(folder_path):\n",
    "                save_path = os.path.join(dst_dir, img_name)\n",
    "                if os.path.isfile(save_path):\n",
    "                    continue\n",
    "                img_path = os.path.join(folder_path, img_name)\n",
    "                img = Image.open(img_path)\n",
    "                resized_img = img.resize((224,224))\n",
    "                resized_img.save(save_path)\n",
    "        except:\n",
    "            print(img_name)\n",
    "            continue"
   ]
  },
  {
   "attachments": {},
   "cell_type": "markdown",
   "metadata": {},
   "source": [
    "## Training folder"
   ]
  },
  {
   "cell_type": "code",
   "execution_count": 1,
   "metadata": {},
   "outputs": [],
   "source": [
    "import os\n",
    "basepath = \"/home/prml/chanyoung/dataset/aihub_fire_resize/Training\"\n",
    "floder_paths_dic = {'Non':[],\n",
    "                     'Fire':[],\n",
    "                     'Sim':[]}\n",
    "\n",
    "for folder_name in os.listdir(basepath):\n",
    "    folder_path = os.path.join(basepath, folder_name)\n",
    "    if 'img' in folder_name:\n",
    "        if 'fire' in folder_name:\n",
    "            floder_paths_dic['Fire'].append(folder_path)\n",
    "        elif 'non' in folder_name:\n",
    "            floder_paths_dic['Non'].append(folder_path)\n",
    "        elif 'sim' in folder_name:\n",
    "            floder_paths_dic['Sim'].append(folder_path)\n"
   ]
  },
  {
   "cell_type": "code",
   "execution_count": 2,
   "metadata": {},
   "outputs": [
    {
     "name": "stdout",
     "output_type": "stream",
     "text": [
      "Non 243351, Similar 587993, Fire 494269\n"
     ]
    }
   ],
   "source": [
    "import os\n",
    "\n",
    "cnt_fire = 0\n",
    "cnt_smoke = 0\n",
    "cnt_non = 0\n",
    "\n",
    "for file_path in floder_paths_dic['Non']:\n",
    "    for file_name in os.listdir(file_path):\n",
    "        cnt_non += 1\n",
    "\n",
    "for file_path in floder_paths_dic['Sim']:\n",
    "    for file_name in os.listdir(file_path):\n",
    "        cnt_smoke += 1\n",
    "\n",
    "for file_path in floder_paths_dic['Fire']:\n",
    "    for file_name in os.listdir(file_path):\n",
    "        cnt_fire += 1\n",
    "\n",
    "print(f'Non {cnt_non}, Similar {cnt_smoke}, Fire {cnt_fire}')"
   ]
  },
  {
   "cell_type": "code",
   "execution_count": 3,
   "metadata": {},
   "outputs": [
    {
     "name": "stdout",
     "output_type": "stream",
     "text": [
      "<class 'pandas.core.frame.DataFrame'>\n",
      "RangeIndex: 1325613 entries, 0 to 1325612\n",
      "Data columns (total 2 columns):\n",
      " #   Column     Non-Null Count    Dtype \n",
      "---  ------     --------------    ----- \n",
      " 0   file_path  1325613 non-null  object\n",
      " 1   class      1325613 non-null  object\n",
      "dtypes: object(2)\n",
      "memory usage: 20.2+ MB\n"
     ]
    }
   ],
   "source": [
    "import os\n",
    "import pandas as pd\n",
    "\n",
    "list_fire = []\n",
    "list_smoke = []\n",
    "list_non = []\n",
    "\n",
    "for file_path in floder_paths_dic['Non']:\n",
    "    for file_name in os.listdir(file_path):\n",
    "        list_non.append([os.path.join(file_path, file_name), \"Non\"])\n",
    "\n",
    "for file_path in floder_paths_dic['Sim']:\n",
    "    for file_name in os.listdir(file_path):\n",
    "        list_smoke.append([os.path.join(file_path, file_name), \"Sim\"])\n",
    "\n",
    "for file_path in floder_paths_dic['Fire']:\n",
    "    for file_name in os.listdir(file_path):\n",
    "        list_fire.append([os.path.join(file_path, file_name), \"Fire\"])\n",
    "\n",
    "df = pd.DataFrame(list_fire+list_smoke+list_non, columns=[\"file_path\", \"class\"])\n",
    "df.to_csv(\"../../aihub_train_info.csv\")\n",
    "df.info()"
   ]
  }
 ],
 "metadata": {
  "kernelspec": {
   "display_name": "chanyoung",
   "language": "python",
   "name": "python3"
  },
  "language_info": {
   "codemirror_mode": {
    "name": "ipython",
    "version": 3
   },
   "file_extension": ".py",
   "mimetype": "text/x-python",
   "name": "python",
   "nbconvert_exporter": "python",
   "pygments_lexer": "ipython3",
   "version": "3.9.16"
  },
  "orig_nbformat": 4,
  "vscode": {
   "interpreter": {
    "hash": "318d57bc0959163e4522988ba386035f7c0aafcd0635bb15b957aeb2dd7e7477"
   }
  }
 },
 "nbformat": 4,
 "nbformat_minor": 2
}
