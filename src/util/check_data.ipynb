{
 "cells": [
  {
   "cell_type": "code",
   "execution_count": 3,
   "metadata": {},
   "outputs": [],
   "source": [
    "import os\n",
    "\n",
    "basepath = '/media/prml/새 볼륨/aihub/화재 발생 예측 영상/Training_nz'\n",
    "for folder_name in os.listdir(basepath):\n",
    "    folder_path = os.path.join(basepath, folder_name)\n",
    "    with os.scandir(folder_path) as entries:\n",
    "        for entry in entries:\n",
    "            if entry.is_dir():\n",
    "                print(folder_name, entry.name)"
   ]
  },
  {
   "cell_type": "code",
   "execution_count": 2,
   "metadata": {},
   "outputs": [],
   "source": [
    "import os\n",
    "import shutil\n",
    "\n",
    "basepath = '/media/prml/새 볼륨/aihub/화재 발생 예측 영상/Training_nz'\n",
    "for folder_name in os.listdir(basepath):\n",
    "    folder_path = os.path.join(basepath, folder_name)\n",
    "    with os.scandir(folder_path) as entries:\n",
    "        for entry in entries:\n",
    "            if entry.is_dir():\n",
    "                shutil.move(os.path.join(folder_path, entry.name), os.path.join(basepath, entry.name))"
   ]
  },
  {
   "attachments": {},
   "cell_type": "markdown",
   "metadata": {},
   "source": [
    "# change folder name"
   ]
  },
  {
   "cell_type": "code",
   "execution_count": 5,
   "metadata": {},
   "outputs": [],
   "source": [
    "basepath = '/media/prml/새 볼륨/aihub/화재 발생 예측 영상/Training_nz'\n",
    "for folder_name in os.listdir(basepath):\n",
    "    src = os.path.join(basepath, folder_name)\n",
    "    new_name = folder_name.replace('라벨', 'label')\n",
    "    new_name = new_name.replace('원천', 'img')\n",
    "    new_name = new_name.replace('화재씬', 'fire')\n",
    "    new_name = new_name.replace('무관씬', 'non')\n",
    "    new_name = new_name.replace('유사씬', 'sim')\n",
    "    dst = os.path.join(basepath,new_name)\n",
    "    os.rename(src, dst)\n",
    "    "
   ]
  },
  {
   "attachments": {},
   "cell_type": "markdown",
   "metadata": {},
   "source": [
    "# check all image is fine"
   ]
  },
  {
   "cell_type": "code",
   "execution_count": 14,
   "metadata": {},
   "outputs": [
    {
     "name": "stdout",
     "output_type": "stream",
     "text": [
      "0\n",
      "66281\n",
      "132562\n",
      "198843\n",
      "265124\n",
      "331405\n",
      "397686\n",
      "463967\n",
      "530248\n",
      "596529\n",
      "662810\n",
      "729091\n",
      "795372\n",
      "861653\n",
      "927934\n",
      "994215\n",
      "1060496\n",
      "1126777\n",
      "1193058\n",
      "1259339\n",
      "1325620\n"
     ]
    },
    {
     "ename": "KeyboardInterrupt",
     "evalue": "",
     "output_type": "error",
     "traceback": [
      "\u001b[0;31m---------------------------------------------------------------------------\u001b[0m",
      "\u001b[0;31mKeyboardInterrupt\u001b[0m                         Traceback (most recent call last)",
      "Cell \u001b[0;32mIn[14], line 37\u001b[0m\n\u001b[1;32m     34\u001b[0m     task\u001b[39m.\u001b[39mstart()\n\u001b[1;32m     36\u001b[0m \u001b[39mfor\u001b[39;00m task \u001b[39min\u001b[39;00m task_list:\n\u001b[0;32m---> 37\u001b[0m     task\u001b[39m.\u001b[39;49mjoin()\n",
      "File \u001b[0;32m~/anaconda3/envs/chanyoung/lib/python3.9/multiprocessing/process.py:149\u001b[0m, in \u001b[0;36mBaseProcess.join\u001b[0;34m(self, timeout)\u001b[0m\n\u001b[1;32m    147\u001b[0m \u001b[39massert\u001b[39;00m \u001b[39mself\u001b[39m\u001b[39m.\u001b[39m_parent_pid \u001b[39m==\u001b[39m os\u001b[39m.\u001b[39mgetpid(), \u001b[39m'\u001b[39m\u001b[39mcan only join a child process\u001b[39m\u001b[39m'\u001b[39m\n\u001b[1;32m    148\u001b[0m \u001b[39massert\u001b[39;00m \u001b[39mself\u001b[39m\u001b[39m.\u001b[39m_popen \u001b[39mis\u001b[39;00m \u001b[39mnot\u001b[39;00m \u001b[39mNone\u001b[39;00m, \u001b[39m'\u001b[39m\u001b[39mcan only join a started process\u001b[39m\u001b[39m'\u001b[39m\n\u001b[0;32m--> 149\u001b[0m res \u001b[39m=\u001b[39m \u001b[39mself\u001b[39;49m\u001b[39m.\u001b[39;49m_popen\u001b[39m.\u001b[39;49mwait(timeout)\n\u001b[1;32m    150\u001b[0m \u001b[39mif\u001b[39;00m res \u001b[39mis\u001b[39;00m \u001b[39mnot\u001b[39;00m \u001b[39mNone\u001b[39;00m:\n\u001b[1;32m    151\u001b[0m     _children\u001b[39m.\u001b[39mdiscard(\u001b[39mself\u001b[39m)\n",
      "File \u001b[0;32m~/anaconda3/envs/chanyoung/lib/python3.9/multiprocessing/popen_fork.py:43\u001b[0m, in \u001b[0;36mPopen.wait\u001b[0;34m(self, timeout)\u001b[0m\n\u001b[1;32m     41\u001b[0m             \u001b[39mreturn\u001b[39;00m \u001b[39mNone\u001b[39;00m\n\u001b[1;32m     42\u001b[0m     \u001b[39m# This shouldn't block if wait() returned successfully.\u001b[39;00m\n\u001b[0;32m---> 43\u001b[0m     \u001b[39mreturn\u001b[39;00m \u001b[39mself\u001b[39;49m\u001b[39m.\u001b[39;49mpoll(os\u001b[39m.\u001b[39;49mWNOHANG \u001b[39mif\u001b[39;49;00m timeout \u001b[39m==\u001b[39;49m \u001b[39m0.0\u001b[39;49m \u001b[39melse\u001b[39;49;00m \u001b[39m0\u001b[39;49m)\n\u001b[1;32m     44\u001b[0m \u001b[39mreturn\u001b[39;00m \u001b[39mself\u001b[39m\u001b[39m.\u001b[39mreturncode\n",
      "File \u001b[0;32m~/anaconda3/envs/chanyoung/lib/python3.9/multiprocessing/popen_fork.py:27\u001b[0m, in \u001b[0;36mPopen.poll\u001b[0;34m(self, flag)\u001b[0m\n\u001b[1;32m     25\u001b[0m \u001b[39mif\u001b[39;00m \u001b[39mself\u001b[39m\u001b[39m.\u001b[39mreturncode \u001b[39mis\u001b[39;00m \u001b[39mNone\u001b[39;00m:\n\u001b[1;32m     26\u001b[0m     \u001b[39mtry\u001b[39;00m:\n\u001b[0;32m---> 27\u001b[0m         pid, sts \u001b[39m=\u001b[39m os\u001b[39m.\u001b[39;49mwaitpid(\u001b[39mself\u001b[39;49m\u001b[39m.\u001b[39;49mpid, flag)\n\u001b[1;32m     28\u001b[0m     \u001b[39mexcept\u001b[39;00m \u001b[39mOSError\u001b[39;00m:\n\u001b[1;32m     29\u001b[0m         \u001b[39m# Child process not yet created. See #1731717\u001b[39;00m\n\u001b[1;32m     30\u001b[0m         \u001b[39m# e.errno == errno.ECHILD == 10\u001b[39;00m\n\u001b[1;32m     31\u001b[0m         \u001b[39mreturn\u001b[39;00m \u001b[39mNone\u001b[39;00m\n",
      "\u001b[0;31mKeyboardInterrupt\u001b[0m: "
     ]
    }
   ],
   "source": [
    "import cv2\n",
    "import os\n",
    "from multiprocessing import Process\n",
    "import pandas as pd\n",
    "\n",
    "def check_imgs(df, start_idx, nums):\n",
    "    for i in range(start_idx, start_idx+nums):\n",
    "        try:\n",
    "            _, file_path, _ = df.iloc[i]\n",
    "            img = cv2.imread(file_path)\n",
    "            if img is None:\n",
    "                print(\"None: \", file_path)\n",
    "            a = img.shape\n",
    "            if a != (224,224,3):\n",
    "                print(\"Size: \", file_path)\n",
    "        except Exception as e:\n",
    "            print(\"Error: \",file_path)\n",
    "            continue\n",
    "    print(\"end..\", start_idx)\n",
    "\n",
    "df = pd.read_csv('/home/prml/chanyoung/fire-detection/aihub_train_info.csv')\n",
    "\n",
    "k = len(df)//20\n",
    "if len(df)%20 > 0:\n",
    "    k+=1\n",
    "task_list = []\n",
    "for i in range(0,20*k+1,k):\n",
    "    print(i)\n",
    "    task = Process(target=check_imgs, args=(df, i ,k))\n",
    "    task_list.append(task)\n",
    "    \n",
    "\n",
    "for task in task_list:\n",
    "    task.start()\n",
    "\n",
    "for task in task_list:\n",
    "    task.join()\n"
   ]
  },
  {
   "cell_type": "code",
   "execution_count": 7,
   "metadata": {},
   "outputs": [
    {
     "name": "stdout",
     "output_type": "stream",
     "text": [
      "(224, 224, 3)\n"
     ]
    }
   ],
   "source": [
    "import pandas as pd\n",
    "import cv2\n",
    "\n",
    "df = pd.read_csv('/home/prml/chanyoung/fire-detection/aihub_train_info.csv')\n",
    "\n",
    "for i, file_path, cls in df.values:\n",
    "    try:\n",
    "        img = cv2.imread(file_path)\n",
    "        a = img.shape\n",
    "        print(a)\n",
    "        break\n",
    "    except Exception as e:\n",
    "        print(file_path)\n",
    "        print(e)\n",
    "        break\n",
    "    \n"
   ]
  }
 ],
 "metadata": {
  "kernelspec": {
   "display_name": "chanyoung",
   "language": "python",
   "name": "python3"
  },
  "language_info": {
   "codemirror_mode": {
    "name": "ipython",
    "version": 3
   },
   "file_extension": ".py",
   "mimetype": "text/x-python",
   "name": "python",
   "nbconvert_exporter": "python",
   "pygments_lexer": "ipython3",
   "version": "3.9.16"
  },
  "orig_nbformat": 4,
  "vscode": {
   "interpreter": {
    "hash": "318d57bc0959163e4522988ba386035f7c0aafcd0635bb15b957aeb2dd7e7477"
   }
  }
 },
 "nbformat": 4,
 "nbformat_minor": 2
}
