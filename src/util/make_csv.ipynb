{
 "cells": [
  {
   "cell_type": "code",
   "execution_count": 3,
   "metadata": {},
   "outputs": [],
   "source": [
    "file_floder_paths = {'Non':[\"/mnt/d/ChanYoung/Dataset/Fire dataset/FIRE-SMOKE-DATASET/Train/Neutral\"],\n",
    "                     'Fire':[\"/mnt/d/ChanYoung/Dataset/Fire dataset/FIRE-SMOKE-DATASET/Train/Fire\"],\n",
    "                     'Smoke':[\"/mnt/d/ChanYoung/Dataset/Fire dataset/FIRE-SMOKE-DATASET/Train/Smoke\"]}"
   ]
  },
  {
   "cell_type": "code",
   "execution_count": 4,
   "metadata": {},
   "outputs": [
    {
     "name": "stdout",
     "output_type": "stream",
     "text": [
      "Non 899, Smoke 900, Fire 900\n"
     ]
    }
   ],
   "source": [
    "import os\n",
    "\n",
    "cnt_fire = 0\n",
    "cnt_smoke = 0\n",
    "cnt_non = 0\n",
    "\n",
    "for file_path in file_floder_paths['Non']:\n",
    "    for file_name in os.listdir(file_path):\n",
    "        cnt_non += 1\n",
    "\n",
    "for file_path in file_floder_paths['Smoke']:\n",
    "    for file_name in os.listdir(file_path):\n",
    "        cnt_smoke += 1\n",
    "\n",
    "for file_path in file_floder_paths['Fire']:\n",
    "    for file_name in os.listdir(file_path):\n",
    "        cnt_fire += 1\n",
    "\n",
    "print(f'Non {cnt_non}, Smoke {cnt_smoke}, Fire {cnt_fire}')"
   ]
  },
  {
   "cell_type": "code",
   "execution_count": 8,
   "metadata": {},
   "outputs": [
    {
     "name": "stdout",
     "output_type": "stream",
     "text": [
      "<class 'pandas.core.frame.DataFrame'>\n",
      "RangeIndex: 2699 entries, 0 to 2698\n",
      "Data columns (total 2 columns):\n",
      " #   Column     Non-Null Count  Dtype \n",
      "---  ------     --------------  ----- \n",
      " 0   file_path  2699 non-null   object\n",
      " 1   class      2699 non-null   object\n",
      "dtypes: object(2)\n",
      "memory usage: 42.3+ KB\n"
     ]
    }
   ],
   "source": [
    "import os\n",
    "import pandas as pd\n",
    "\n",
    "list_fire = []\n",
    "list_smoke = []\n",
    "list_non = []\n",
    "\n",
    "for file_path in file_floder_paths['Non']:\n",
    "    for file_name in os.listdir(file_path):\n",
    "        list_non.append([os.path.join(file_path, file_name), \"Non\"])\n",
    "\n",
    "for file_path in file_floder_paths['Smoke']:\n",
    "    for file_name in os.listdir(file_path):\n",
    "        list_smoke.append([os.path.join(file_path, file_name), \"Smoke\"])\n",
    "\n",
    "for file_path in file_floder_paths['Fire']:\n",
    "    for file_name in os.listdir(file_path):\n",
    "        list_fire.append([os.path.join(file_path, file_name), \"Fire\"])\n",
    "\n",
    "df = pd.DataFrame(list_fire+list_smoke+list_non, columns=[\"file_path\", \"class\"])\n",
    "df.to_csv(\"../../train_info.csv\")\n",
    "df.info()"
   ]
  }
 ],
 "metadata": {
  "kernelspec": {
   "display_name": "young",
   "language": "python",
   "name": "python3"
  },
  "language_info": {
   "codemirror_mode": {
    "name": "ipython",
    "version": 3
   },
   "file_extension": ".py",
   "mimetype": "text/x-python",
   "name": "python",
   "nbconvert_exporter": "python",
   "pygments_lexer": "ipython3",
   "version": "3.9.15"
  },
  "orig_nbformat": 4,
  "vscode": {
   "interpreter": {
    "hash": "64cf37d96cf2dbc3604a3ff8c30930b78c65d39cc30fbd8c4ef70c1a7a0d5681"
   }
  }
 },
 "nbformat": 4,
 "nbformat_minor": 2
}
