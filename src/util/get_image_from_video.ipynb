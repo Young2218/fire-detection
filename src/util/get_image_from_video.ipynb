{
 "cells": [
  {
   "cell_type": "code",
   "execution_count": 9,
   "metadata": {},
   "outputs": [
    {
     "name": "stdout",
     "output_type": "stream",
     "text": [
      "510\n"
     ]
    }
   ],
   "source": [
    "import cv2, os\n",
    "\n",
    "video_path = \"/home/bbb/ChanYoung/Fire_Detection/dataset/fire from youtube/video1.mp4\"\n",
    "save_path = \"/home/bbb/ChanYoung/Fire_Detection/dataset/fire from youtube/video1_img/\"\n",
    "cap = cv2.VideoCapture(video_path)\n",
    "\n",
    "width = int(cap.get(cv2.CAP_PROP_FRAME_WIDTH))\n",
    "height = int(cap.get(cv2.CAP_PROP_FRAME_HEIGHT))\n",
    "total_frame = cap.get(cv2.CAP_PROP_FRAME_COUNT)\n",
    "\n",
    "imgs = []\n",
    "ret = True\n",
    "while ret:\n",
    "    ret, image = cap.read()\n",
    "    if int(cap.get(1)) % 120 == 0:\n",
    "        imgs.append(image)\n",
    "cap.release()\n",
    "\n",
    "name = 0\n",
    "print(len(imgs))\n",
    "for img in imgs:\n",
    "    file_name = os.path.join(save_path, str(name).zfill(6)+'.jpg')\n",
    "    cv2.imwrite(file_name, img)\n",
    "    name += 1"
   ]
  },
  {
   "cell_type": "code",
   "execution_count": 8,
   "metadata": {},
   "outputs": [
    {
     "name": "stdout",
     "output_type": "stream",
     "text": [
      "73\n"
     ]
    }
   ],
   "source": [
    "import cv2, os\n",
    "\n",
    "video_path = \"/home/bbb/ChanYoung/Fire_Detection/dataset/fire from youtube/video2.mp4\"\n",
    "save_path = \"/home/bbb/ChanYoung/Fire_Detection/dataset/fire from youtube/video2_img/\"\n",
    "cap = cv2.VideoCapture(video_path)\n",
    "\n",
    "width = int(cap.get(cv2.CAP_PROP_FRAME_WIDTH))\n",
    "height = int(cap.get(cv2.CAP_PROP_FRAME_HEIGHT))\n",
    "total_frame = cap.get(cv2.CAP_PROP_FRAME_COUNT)\n",
    "\n",
    "imgs = []\n",
    "ret = True\n",
    "while ret:\n",
    "    ret, image = cap.read()\n",
    "    if int(cap.get(1)) % 120 == 0:\n",
    "        imgs.append(image)\n",
    "cap.release()\n",
    "\n",
    "name = 0\n",
    "print(len(imgs))\n",
    "for img in imgs:\n",
    "    file_name = os.path.join(save_path, str(name).zfill(6)+'.jpg')\n",
    "    cv2.imwrite(file_name, img)\n",
    "    name += 1"
   ]
  },
  {
   "cell_type": "code",
   "execution_count": 10,
   "metadata": {},
   "outputs": [
    {
     "name": "stdout",
     "output_type": "stream",
     "text": [
      "389\n"
     ]
    }
   ],
   "source": [
    "import cv2, os\n",
    "\n",
    "video_path = \"/home/bbb/ChanYoung/Fire_Detection/dataset/fire from youtube/video3.mp4\"\n",
    "save_path = \"/home/bbb/ChanYoung/Fire_Detection/dataset/fire from youtube/video3_img/\"\n",
    "cap = cv2.VideoCapture(video_path)\n",
    "\n",
    "width = int(cap.get(cv2.CAP_PROP_FRAME_WIDTH))\n",
    "height = int(cap.get(cv2.CAP_PROP_FRAME_HEIGHT))\n",
    "total_frame = cap.get(cv2.CAP_PROP_FRAME_COUNT)\n",
    "\n",
    "imgs = []\n",
    "ret = True\n",
    "while ret:\n",
    "    ret, image = cap.read()\n",
    "    if int(cap.get(1)) % 120 == 0:\n",
    "        imgs.append(image)\n",
    "cap.release()\n",
    "\n",
    "name = 0\n",
    "print(len(imgs))\n",
    "for img in imgs:\n",
    "    file_name = os.path.join(save_path, str(name).zfill(6)+'.jpg')\n",
    "    cv2.imwrite(file_name, img)\n",
    "    name += 1"
   ]
  },
  {
   "cell_type": "code",
   "execution_count": 11,
   "metadata": {},
   "outputs": [
    {
     "name": "stdout",
     "output_type": "stream",
     "text": [
      "7775\n"
     ]
    }
   ],
   "source": [
    "import cv2, os\n",
    "\n",
    "video_path = \"/home/bbb/ChanYoung/Fire_Detection/dataset/fire from youtube/video4.mp4\"\n",
    "save_path = \"/home/bbb/ChanYoung/Fire_Detection/dataset/fire from youtube/video4_img/\"\n",
    "cap = cv2.VideoCapture(video_path)\n",
    "\n",
    "width = int(cap.get(cv2.CAP_PROP_FRAME_WIDTH))\n",
    "height = int(cap.get(cv2.CAP_PROP_FRAME_HEIGHT))\n",
    "total_frame = cap.get(cv2.CAP_PROP_FRAME_COUNT)\n",
    "\n",
    "imgs = []\n",
    "ret = True\n",
    "while ret:\n",
    "    ret, image = cap.read()\n",
    "    if int(cap.get(1)) % 120 == 0:\n",
    "        imgs.append(image)\n",
    "cap.release()\n",
    "\n",
    "name = 0\n",
    "print(len(imgs))\n",
    "for img in imgs:\n",
    "    file_name = os.path.join(save_path, str(name).zfill(6)+'.jpg')\n",
    "    cv2.imwrite(file_name, img)\n",
    "    name += 1"
   ]
  },
  {
   "cell_type": "code",
   "execution_count": 12,
   "metadata": {},
   "outputs": [
    {
     "name": "stdout",
     "output_type": "stream",
     "text": [
      "2260\n"
     ]
    }
   ],
   "source": [
    "import cv2, os\n",
    "\n",
    "video_path = \"/home/bbb/ChanYoung/Fire_Detection/dataset/fire from youtube/non_video.mp4\"\n",
    "save_path = \"/home/bbb/ChanYoung/Fire_Detection/dataset/fire from youtube/non_video_img/\"\n",
    "cap = cv2.VideoCapture(video_path)\n",
    "\n",
    "width = int(cap.get(cv2.CAP_PROP_FRAME_WIDTH))\n",
    "height = int(cap.get(cv2.CAP_PROP_FRAME_HEIGHT))\n",
    "total_frame = cap.get(cv2.CAP_PROP_FRAME_COUNT)\n",
    "\n",
    "imgs = []\n",
    "ret = True\n",
    "while ret:\n",
    "    ret, image = cap.read()\n",
    "    if int(cap.get(1)) % 120 == 0:\n",
    "        imgs.append(image)\n",
    "cap.release()\n",
    "\n",
    "name = 0\n",
    "print(len(imgs))\n",
    "for img in imgs:\n",
    "    file_name = os.path.join(save_path, str(name).zfill(6)+'.jpg')\n",
    "    cv2.imwrite(file_name, img)\n",
    "    name += 1"
   ]
  }
 ],
 "metadata": {
  "kernelspec": {
   "display_name": "Python 3.9.13 ('young')",
   "language": "python",
   "name": "python3"
  },
  "language_info": {
   "codemirror_mode": {
    "name": "ipython",
    "version": 3
   },
   "file_extension": ".py",
   "mimetype": "text/x-python",
   "name": "python",
   "nbconvert_exporter": "python",
   "pygments_lexer": "ipython3",
   "version": "3.9.13"
  },
  "orig_nbformat": 4,
  "vscode": {
   "interpreter": {
    "hash": "a2e00566738ce0822941aafc960ad340ad51273d10d9b1783220cb786e84e4d6"
   }
  }
 },
 "nbformat": 4,
 "nbformat_minor": 2
}
